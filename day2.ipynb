{
 "cells": [
  {
   "cell_type": "markdown",
   "metadata": {},
   "source": [
    "TIP CALCULATOR"
   ]
  },
  {
   "cell_type": "code",
   "execution_count": 2,
   "metadata": {},
   "outputs": [
    {
     "name": "stdout",
     "output_type": "stream",
     "text": [
      "Welcome to the tip calculator!\n",
      "1100.0\n",
      "Each person should pay: 220.0\n"
     ]
    }
   ],
   "source": [
    "print(\"Welcome to the tip calculator!\")\n",
    "bill =int(input(\"What was the total bill? ₹\"))\n",
    "tip =int(input(\"How much tip would you like to give? 10,15,20? \"))\n",
    "people = int(input(\"How many people to split the bill?\"))\n",
    "bill_with_tip=tip/100*bill+bill\n",
    "print(bill_with_tip)\n",
    "bill_per_person=bill_with_tip/people\n",
    "final_amount=round(bill_per_person,2)\n",
    "print(f\"Each person should pay: {final_amount}\")"
   ]
  },
  {
   "cell_type": "code",
   "execution_count": 3,
   "metadata": {},
   "outputs": [
    {
     "name": "stdout",
     "output_type": "stream",
     "text": [
      "Welcome to the tip calculator!\n",
      "if the bill was rs 1000,split b/w 5 with 10 % tip:\n",
      "each person should pay rs 220.000000\n"
     ]
    }
   ],
   "source": [
    "print(\"Welcome to the tip calculator!\")\n",
    "bill =int(input(\"What was the total bill? ₹\"))\n",
    "tip =int(input(\"How much tip would you like to give? 10,15,20? \"))\n",
    "people = int(input(\"How many people to split the bill?\"))\n",
    "total_tip_amount =(bill * tip)/100\n",
    "total_bill = bill + total_tip_amount\n",
    "bill_per_person = total_bill / people\n",
    "final_amount = bill_per_person\n",
    "print(f\"if the bill was rs {bill},split b/w {people} with {tip} % tip:\")\n",
    "print(f\"each person should pay rs {final_amount:2f}\")"
   ]
  },
  {
   "cell_type": "code",
   "execution_count": null,
   "metadata": {},
   "outputs": [],
   "source": []
  }
 ],
 "metadata": {
  "kernelspec": {
   "display_name": "Python 3",
   "language": "python",
   "name": "python3"
  },
  "language_info": {
   "codemirror_mode": {
    "name": "ipython",
    "version": 3
   },
   "file_extension": ".py",
   "mimetype": "text/x-python",
   "name": "python",
   "nbconvert_exporter": "python",
   "pygments_lexer": "ipython3",
   "version": "3.11.5"
  },
  "orig_nbformat": 4
 },
 "nbformat": 4,
 "nbformat_minor": 2
}
